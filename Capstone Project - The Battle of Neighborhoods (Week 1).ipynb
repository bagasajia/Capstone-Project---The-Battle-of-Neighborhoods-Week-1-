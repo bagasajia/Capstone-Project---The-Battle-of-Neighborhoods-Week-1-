{
 "cells": [
  {
   "cell_type": "code",
   "execution_count": 1,
   "metadata": {},
   "outputs": [],
   "source": [
    "import numpy as np\n",
    "import time\n",
    "import pandas as pd\n",
    "pd.set_option('display.max_columns', None)\n",
    "pd.set_option('display.max_rows', None)\n",
    "\n",
    "import json\n",
    "import requests\n",
    "from pandas.io.json import json_normalize\n",
    "\n",
    "from geopy.geocoders import Nominatim\n",
    "import folium"
   ]
  },
  {
   "cell_type": "markdown",
   "metadata": {},
   "source": [
    "# Introduction/Business Problem"
   ]
  },
  {
   "cell_type": "markdown",
   "metadata": {},
   "source": [
    "The challenge is to find a suitable apartment for rent in Manhattan NY that complies with the demands on location, price and venues."
   ]
  },
  {
   "cell_type": "markdown",
   "metadata": {},
   "source": [
    "# Data section"
   ]
  },
  {
   "cell_type": "markdown",
   "metadata": {},
   "source": [
    "## Description of the Data:\n",
    "\n",
    "  - List of Boroughs and neighborhoods of Manhattan with their geodata (latitud and longitud)\n",
    "  - List of Subway metro stations in Manhattan with their address location\n",
    "  - List of apartments for rent in Manhattan area with their addresses and price\n",
    "  - Preferably, a list of apartment for rent with additional information, such as price, address, area, # of beds, etc\n",
    "  - Venues for each Manhattan neighborhood ( than can be clustered)\n",
    "  - Venues for subway metro stations, as needed\n",
    "\n",
    "## How the data will be used to solve the problem\n",
    "\n",
    "  - Use Foursquare and geopy data to map top 10 venues for all Manhattan neighborhoods and clustered in groups ( as per Course LAB)\n",
    "  - Use foursquare and geopy data to map the location of subway metro stations , separately and on top of the above clustered map in order to be able to identify the venues and ammenities near each metro station, or explore each subway location separately\n",
    "  - Use Foursquare and geopy data to map the location of rental places, in some form, linked to the subway locations.\n",
    "  - Create a map that depicts, for instance, the average rental price per square ft, around a radious of 1.0 mile (1.6 km) around each subway station - or a similar metrics. I will be able to quickly point to the popups to know the relative price per subway area.\n",
    "  - Addresses from rental locations will be converted to geodata( lat, long) using Geopy-distance and Nominatim.\n",
    "  - Data will be searched in open data sources if available, from real estate sites if open to reading, libraries or other government agencies such as Metro New York MTA, etc."
   ]
  }
 ],
 "metadata": {
  "kernelspec": {
   "display_name": "Python 3",
   "language": "python",
   "name": "python3"
  },
  "language_info": {
   "codemirror_mode": {
    "name": "ipython",
    "version": 3
   },
   "file_extension": ".py",
   "mimetype": "text/x-python",
   "name": "python",
   "nbconvert_exporter": "python",
   "pygments_lexer": "ipython3",
   "version": "3.7.1"
  }
 },
 "nbformat": 4,
 "nbformat_minor": 4
}
